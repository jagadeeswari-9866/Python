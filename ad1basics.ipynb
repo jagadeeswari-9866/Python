{
 "cells": [
  {
   "cell_type": "code",
   "execution_count": null,
   "id": "b0c29a90-9ca2-462e-b5e3-13620d1db57b",
   "metadata": {},
   "outputs": [],
   "source": [
    "int \n",
    "float\n",
    "string\n",
    "boolean\n",
    "complex"
   ]
  },
  {
   "cell_type": "code",
   "execution_count": 1,
   "id": "52265a24-3517-4a0d-8fbe-8c51749b1966",
   "metadata": {},
   "outputs": [
    {
     "data": {
      "text/plain": [
       "4"
      ]
     },
     "execution_count": 1,
     "metadata": {},
     "output_type": "execute_result"
    }
   ],
   "source": [
    "b=4\n",
    "b"
   ]
  },
  {
   "cell_type": "code",
   "execution_count": 3,
   "id": "c3937a58-d5cd-4d5b-8e8e-fad23f213b3e",
   "metadata": {},
   "outputs": [
    {
     "data": {
      "text/plain": [
       "int"
      ]
     },
     "execution_count": 3,
     "metadata": {},
     "output_type": "execute_result"
    }
   ],
   "source": [
    "type(b)"
   ]
  },
  {
   "cell_type": "code",
   "execution_count": 5,
   "id": "81347490-0ea0-42dd-8a00-5de1462bbc24",
   "metadata": {},
   "outputs": [
    {
     "data": {
      "text/plain": [
       "34.5"
      ]
     },
     "execution_count": 5,
     "metadata": {},
     "output_type": "execute_result"
    }
   ],
   "source": [
    "c=34.5\n",
    "c"
   ]
  },
  {
   "cell_type": "code",
   "execution_count": 7,
   "id": "f6195b97-acf1-4f82-a56c-c99ab25d25bb",
   "metadata": {},
   "outputs": [
    {
     "data": {
      "text/plain": [
       "'chitti'"
      ]
     },
     "execution_count": 7,
     "metadata": {},
     "output_type": "execute_result"
    }
   ],
   "source": [
    "d=\"chitti\"\n",
    "d"
   ]
  },
  {
   "cell_type": "code",
   "execution_count": 9,
   "id": "4f49cfa0-b0f0-4034-b615-40ca9159e039",
   "metadata": {},
   "outputs": [
    {
     "data": {
      "text/plain": [
       "str"
      ]
     },
     "execution_count": 9,
     "metadata": {},
     "output_type": "execute_result"
    }
   ],
   "source": [
    "type(d)"
   ]
  },
  {
   "cell_type": "code",
   "execution_count": 11,
   "id": "ae9a5326-5783-487b-a455-6a53da4e72a0",
   "metadata": {},
   "outputs": [
    {
     "data": {
      "text/plain": [
       "(5+4j)"
      ]
     },
     "execution_count": 11,
     "metadata": {},
     "output_type": "execute_result"
    }
   ],
   "source": [
    "e=5+4j\n",
    "e"
   ]
  },
  {
   "cell_type": "code",
   "execution_count": 13,
   "id": "57425287-3bbc-457b-b0aa-eb1d3ea43fa3",
   "metadata": {},
   "outputs": [
    {
     "data": {
      "text/plain": [
       "complex"
      ]
     },
     "execution_count": 13,
     "metadata": {},
     "output_type": "execute_result"
    }
   ],
   "source": [
    "type(e)"
   ]
  },
  {
   "cell_type": "code",
   "execution_count": 17,
   "id": "bcaefeed-c709-43b0-9971-9b88a0af37db",
   "metadata": {},
   "outputs": [
    {
     "data": {
      "text/plain": [
       "True"
      ]
     },
     "execution_count": 17,
     "metadata": {},
     "output_type": "execute_result"
    }
   ],
   "source": [
    "t=True\n",
    "t"
   ]
  },
  {
   "cell_type": "code",
   "execution_count": 19,
   "id": "d308654e-a7cb-44c4-8b79-eec6f1fcbe5f",
   "metadata": {},
   "outputs": [
    {
     "data": {
      "text/plain": [
       "bool"
      ]
     },
     "execution_count": 19,
     "metadata": {},
     "output_type": "execute_result"
    }
   ],
   "source": [
    "type(t)"
   ]
  },
  {
   "cell_type": "code",
   "execution_count": 21,
   "id": "85a2e9c4-df7c-4295-b1b9-581ef49a2106",
   "metadata": {},
   "outputs": [
    {
     "data": {
      "text/plain": [
       "False"
      ]
     },
     "execution_count": 21,
     "metadata": {},
     "output_type": "execute_result"
    }
   ],
   "source": [
    "y=False\n",
    "y"
   ]
  },
  {
   "cell_type": "code",
   "execution_count": 23,
   "id": "6e99ed6f-81ae-4092-a3b7-71d3d85783c8",
   "metadata": {},
   "outputs": [
    {
     "data": {
      "text/plain": [
       "(4+4j)"
      ]
     },
     "execution_count": 23,
     "metadata": {},
     "output_type": "execute_result"
    }
   ],
   "source": [
    "t=4+4j\n",
    "t"
   ]
  },
  {
   "cell_type": "code",
   "execution_count": 29,
   "id": "55b51318-ec0d-4e25-a810-bee83eb651e9",
   "metadata": {},
   "outputs": [
    {
     "data": {
      "text/plain": [
       "55"
      ]
     },
     "execution_count": 29,
     "metadata": {},
     "output_type": "execute_result"
    }
   ],
   "source": [
    "a=1\n",
    "b=5\n",
    "c=9\n",
    "d=7\n",
    "e=4\n",
    "f=2\n",
    "g=7\n",
    "h=8\n",
    "i=6\n",
    "j=1\n",
    "k=5\n",
    "a+b+c+d+e+f+g+h+i+j+k"
   ]
  },
  {
   "cell_type": "code",
   "execution_count": 33,
   "id": "a7fb6ed9-8f4e-41ea-8003-6ed43ced58e6",
   "metadata": {},
   "outputs": [
    {
     "data": {
      "text/plain": [
       "'chittiarchanameenarksunneetarajeshchanduniharikavamsiSAmhiii'"
      ]
     },
     "execution_count": 33,
     "metadata": {},
     "output_type": "execute_result"
    }
   ],
   "source": [
    "\n",
    "a = 'chitti'\n",
    "b= 'archana'\n",
    "c='meena'\n",
    "d='rk'\n",
    "e='sunneeta'\n",
    "f='rajesh'\n",
    "g='chandu'\n",
    "h='niharika'\n",
    "i='vamsi'\n",
    "j='SAm'\n",
    "k='hiii'\n",
    "a+b+c+d+e+f+g+h+i+j+k"
   ]
  },
  {
   "cell_type": "code",
   "execution_count": null,
   "id": "05c7e29c-fb96-46d9-b025-ae5545cb537c",
   "metadata": {},
   "outputs": [],
   "source": [
    "### addition  +\n",
    "### substraction  -\n",
    "### multiplication  *\n",
    "### division /\n",
    "### remainder %\n",
    "### floor division //\n",
    "### power  **"
   ]
  },
  {
   "cell_type": "code",
   "execution_count": 35,
   "id": "7bac6dd1-46fd-4184-bf53-bcd3c2f150ec",
   "metadata": {},
   "outputs": [],
   "source": [
    "# arithmetic operator\n",
    "a = 4\n",
    "b = 3"
   ]
  },
  {
   "cell_type": "code",
   "execution_count": 39,
   "id": "9440579b-de0f-424a-ac99-e3214469e4a2",
   "metadata": {},
   "outputs": [
    {
     "data": {
      "text/plain": [
       "7"
      ]
     },
     "execution_count": 39,
     "metadata": {},
     "output_type": "execute_result"
    }
   ],
   "source": [
    "c= a+b\n",
    "c"
   ]
  },
  {
   "cell_type": "code",
   "execution_count": 41,
   "id": "34a28327-5178-4e88-a4ff-b7a72e9446a6",
   "metadata": {},
   "outputs": [
    {
     "data": {
      "text/plain": [
       "1"
      ]
     },
     "execution_count": 41,
     "metadata": {},
     "output_type": "execute_result"
    }
   ],
   "source": [
    "z= a-b\n",
    "z"
   ]
  },
  {
   "cell_type": "code",
   "execution_count": 43,
   "id": "3d6dbe05-18b0-4367-a4ca-20f918b0a211",
   "metadata": {},
   "outputs": [
    {
     "data": {
      "text/plain": [
       "12"
      ]
     },
     "execution_count": 43,
     "metadata": {},
     "output_type": "execute_result"
    }
   ],
   "source": [
    "s= a*b\n",
    "s"
   ]
  },
  {
   "cell_type": "code",
   "execution_count": 45,
   "id": "780a8e78-4320-42d8-949b-35d118b223e5",
   "metadata": {},
   "outputs": [
    {
     "data": {
      "text/plain": [
       "1.3333333333333333"
      ]
     },
     "execution_count": 45,
     "metadata": {},
     "output_type": "execute_result"
    }
   ],
   "source": [
    "x= a/b\n",
    "x"
   ]
  },
  {
   "cell_type": "code",
   "execution_count": 47,
   "id": "443f0236-dac3-44c3-b8d6-bfcc9956fea8",
   "metadata": {},
   "outputs": [
    {
     "data": {
      "text/plain": [
       "64"
      ]
     },
     "execution_count": 47,
     "metadata": {},
     "output_type": "execute_result"
    }
   ],
   "source": [
    "r= a**b\n",
    "r"
   ]
  },
  {
   "cell_type": "code",
   "execution_count": 49,
   "id": "b37bf5ea-7d29-452f-ba04-2f15620db0a8",
   "metadata": {},
   "outputs": [
    {
     "data": {
      "text/plain": [
       "1"
      ]
     },
     "execution_count": 49,
     "metadata": {},
     "output_type": "execute_result"
    }
   ],
   "source": [
    "w= a//b\n",
    "w"
   ]
  },
  {
   "cell_type": "code",
   "execution_count": 51,
   "id": "054843c0-9984-4c58-8514-0bdfe3079b71",
   "metadata": {},
   "outputs": [
    {
     "data": {
      "text/plain": [
       "1"
      ]
     },
     "execution_count": 51,
     "metadata": {},
     "output_type": "execute_result"
    }
   ],
   "source": [
    "q= a%b\n",
    "q"
   ]
  },
  {
   "cell_type": "code",
   "execution_count": null,
   "id": "7b35d16c-7b23-47ed-ad84-f158d9c4ff1c",
   "metadata": {},
   "outputs": [],
   "source": [
    "#relational operators"
   ]
  },
  {
   "cell_type": "code",
   "execution_count": null,
   "id": "a622230c-4554-41f8-a1cf-0319c3c7a990",
   "metadata": {},
   "outputs": [],
   "source": [
    "a=34\n",
    "b=23"
   ]
  },
  {
   "cell_type": "code",
   "execution_count": 53,
   "id": "ff5bbd4c-7a56-45e4-9d67-946772782338",
   "metadata": {},
   "outputs": [
    {
     "data": {
      "text/plain": [
       "False"
      ]
     },
     "execution_count": 53,
     "metadata": {},
     "output_type": "execute_result"
    }
   ],
   "source": [
    "a<b"
   ]
  },
  {
   "cell_type": "code",
   "execution_count": 55,
   "id": "41f0ea5f-2268-49d9-ae9a-a14370dab8c2",
   "metadata": {},
   "outputs": [
    {
     "data": {
      "text/plain": [
       "True"
      ]
     },
     "execution_count": 55,
     "metadata": {},
     "output_type": "execute_result"
    }
   ],
   "source": [
    "a>b"
   ]
  },
  {
   "cell_type": "code",
   "execution_count": 59,
   "id": "364efe82-1d37-44b5-93ed-0077964acde7",
   "metadata": {},
   "outputs": [
    {
     "data": {
      "text/plain": [
       "False"
      ]
     },
     "execution_count": 59,
     "metadata": {},
     "output_type": "execute_result"
    }
   ],
   "source": [
    "a<=b"
   ]
  },
  {
   "cell_type": "code",
   "execution_count": 61,
   "id": "153c7139-f8f6-432e-9541-ab331a4ac9aa",
   "metadata": {},
   "outputs": [
    {
     "data": {
      "text/plain": [
       "True"
      ]
     },
     "execution_count": 61,
     "metadata": {},
     "output_type": "execute_result"
    }
   ],
   "source": [
    "a>=b\n"
   ]
  },
  {
   "cell_type": "code",
   "execution_count": 63,
   "id": "f65201a0-e74f-48d7-a16e-a3ff84af736d",
   "metadata": {},
   "outputs": [
    {
     "data": {
      "text/plain": [
       "False"
      ]
     },
     "execution_count": 63,
     "metadata": {},
     "output_type": "execute_result"
    }
   ],
   "source": [
    "a==b\n"
   ]
  },
  {
   "cell_type": "code",
   "execution_count": null,
   "id": "f864e508-878f-4694-a691-2185616ba76a",
   "metadata": {},
   "outputs": [],
   "source": [
    "#logical operator\n",
    "and\n",
    "or \n",
    "not"
   ]
  },
  {
   "cell_type": "code",
   "execution_count": 70,
   "id": "7f1e460b-c523-4a97-b68b-3357ff7eb729",
   "metadata": {},
   "outputs": [],
   "source": [
    "a=4\n",
    "b=5"
   ]
  },
  {
   "cell_type": "code",
   "execution_count": 74,
   "id": "5ba8d57c-8c3f-4100-af95-769e81c5707c",
   "metadata": {},
   "outputs": [
    {
     "data": {
      "text/plain": [
       "5"
      ]
     },
     "execution_count": 74,
     "metadata": {},
     "output_type": "execute_result"
    }
   ],
   "source": [
    "a and b"
   ]
  },
  {
   "cell_type": "code",
   "execution_count": 76,
   "id": "a87d88ff-d4e5-43f5-9794-896fbf77b1b8",
   "metadata": {},
   "outputs": [
    {
     "data": {
      "text/plain": [
       "4"
      ]
     },
     "execution_count": 76,
     "metadata": {},
     "output_type": "execute_result"
    }
   ],
   "source": [
    "a or  b"
   ]
  },
  {
   "cell_type": "code",
   "execution_count": 78,
   "id": "a77ff239-d66c-494d-95b9-c6f3f3eeebef",
   "metadata": {},
   "outputs": [
    {
     "data": {
      "text/plain": [
       "4"
      ]
     },
     "execution_count": 78,
     "metadata": {},
     "output_type": "execute_result"
    }
   ],
   "source": [
    "a"
   ]
  },
  {
   "cell_type": "code",
   "execution_count": 80,
   "id": "4647d6ad-bc73-47fc-bae9-7a3ce07e370a",
   "metadata": {},
   "outputs": [
    {
     "data": {
      "text/plain": [
       "5"
      ]
     },
     "execution_count": 80,
     "metadata": {},
     "output_type": "execute_result"
    }
   ],
   "source": [
    "b"
   ]
  },
  {
   "cell_type": "code",
   "execution_count": 82,
   "id": "379f9ef0-8ee8-4b65-81a1-5868c01f7954",
   "metadata": {},
   "outputs": [
    {
     "data": {
      "text/plain": [
       "True"
      ]
     },
     "execution_count": 82,
     "metadata": {},
     "output_type": "execute_result"
    }
   ],
   "source": [
    "d=8.1\n",
    "d>=8.0 and d<=9.1"
   ]
  },
  {
   "cell_type": "code",
   "execution_count": 84,
   "id": "19cb0b39-648a-49f6-916d-4a11c84caf95",
   "metadata": {},
   "outputs": [
    {
     "data": {
      "text/plain": [
       "8.1"
      ]
     },
     "execution_count": 84,
     "metadata": {},
     "output_type": "execute_result"
    }
   ],
   "source": [
    "d"
   ]
  },
  {
   "cell_type": "code",
   "execution_count": 86,
   "id": "50e1cb44-7914-455d-87e5-2f0e776d92df",
   "metadata": {},
   "outputs": [
    {
     "data": {
      "text/plain": [
       "False"
      ]
     },
     "execution_count": 86,
     "metadata": {},
     "output_type": "execute_result"
    }
   ],
   "source": [
    "d>8.2"
   ]
  },
  {
   "cell_type": "code",
   "execution_count": 88,
   "id": "e42927d3-ee6c-42a0-b9e3-ecded4d40a02",
   "metadata": {},
   "outputs": [
    {
     "data": {
      "text/plain": [
       "True"
      ]
     },
     "execution_count": 88,
     "metadata": {},
     "output_type": "execute_result"
    }
   ],
   "source": [
    "d<8.2"
   ]
  },
  {
   "cell_type": "code",
   "execution_count": 90,
   "id": "03807328-3d67-4568-97da-fdc24e003d05",
   "metadata": {},
   "outputs": [
    {
     "data": {
      "text/plain": [
       "False"
      ]
     },
     "execution_count": 90,
     "metadata": {},
     "output_type": "execute_result"
    }
   ],
   "source": [
    "\n",
    "d>=8.2\n"
   ]
  },
  {
   "cell_type": "code",
   "execution_count": 92,
   "id": "a56367f2-4c3f-4f68-bdf6-b30ce90d0e69",
   "metadata": {},
   "outputs": [
    {
     "data": {
      "text/plain": [
       "True"
      ]
     },
     "execution_count": 92,
     "metadata": {},
     "output_type": "execute_result"
    }
   ],
   "source": [
    "d<=8.2"
   ]
  },
  {
   "cell_type": "code",
   "execution_count": 94,
   "id": "84b851e2-da8f-4998-ab07-21be13ccb4ab",
   "metadata": {},
   "outputs": [
    {
     "data": {
      "text/plain": [
       "True"
      ]
     },
     "execution_count": 94,
     "metadata": {},
     "output_type": "execute_result"
    }
   ],
   "source": [
    "d>=8.1 and d<=9.0"
   ]
  },
  {
   "cell_type": "code",
   "execution_count": 96,
   "id": "c14acf7f-a0b3-4bca-b9b1-bc027f57f051",
   "metadata": {},
   "outputs": [
    {
     "data": {
      "text/plain": [
       "False"
      ]
     },
     "execution_count": 96,
     "metadata": {},
     "output_type": "execute_result"
    }
   ],
   "source": [
    "\n",
    "d>=9.0 and d<=10"
   ]
  },
  {
   "cell_type": "code",
   "execution_count": 98,
   "id": "f22c7cdc-afdd-4e3d-833d-737a88730a1e",
   "metadata": {},
   "outputs": [
    {
     "data": {
      "text/plain": [
       "False"
      ]
     },
     "execution_count": 98,
     "metadata": {},
     "output_type": "execute_result"
    }
   ],
   "source": [
    "d>=7.1 and d<=8.0"
   ]
  },
  {
   "cell_type": "code",
   "execution_count": 100,
   "id": "632b8015-9fb8-4c59-9b1a-28573e49d9d3",
   "metadata": {},
   "outputs": [
    {
     "data": {
      "text/plain": [
       "False"
      ]
     },
     "execution_count": 100,
     "metadata": {},
     "output_type": "execute_result"
    }
   ],
   "source": [
    "d>=5.0 and d<=5.9"
   ]
  },
  {
   "cell_type": "code",
   "execution_count": 102,
   "id": "423fa6a5-1d9a-4448-930d-ef6a6eef6730",
   "metadata": {},
   "outputs": [
    {
     "data": {
      "text/plain": [
       "True"
      ]
     },
     "execution_count": 102,
     "metadata": {},
     "output_type": "execute_result"
    }
   ],
   "source": [
    "d>=5.0 and d<=8.6"
   ]
  },
  {
   "cell_type": "code",
   "execution_count": 104,
   "id": "6914c42b-c90a-4d0b-8cd5-9933cbfe7d2f",
   "metadata": {},
   "outputs": [
    {
     "data": {
      "text/plain": [
       "True"
      ]
     },
     "execution_count": 104,
     "metadata": {},
     "output_type": "execute_result"
    }
   ],
   "source": [
    "d>=5.0 and d<=8.1"
   ]
  },
  {
   "cell_type": "code",
   "execution_count": 106,
   "id": "b0e5c13d-ca1a-4cab-b2da-04becd1ee31e",
   "metadata": {},
   "outputs": [],
   "source": [
    "\n",
    "cgpa=8.6"
   ]
  },
  {
   "cell_type": "code",
   "execution_count": 108,
   "id": "81c767b6-8430-4653-8df2-0481d29845fd",
   "metadata": {},
   "outputs": [
    {
     "data": {
      "text/plain": [
       "True"
      ]
     },
     "execution_count": 108,
     "metadata": {},
     "output_type": "execute_result"
    }
   ],
   "source": [
    "cgpa>=8.0 and cgpa<=9.0  # A grade"
   ]
  },
  {
   "cell_type": "code",
   "execution_count": 110,
   "id": "3e8e0bd3-12d4-40e9-af28-eb62f5edee07",
   "metadata": {},
   "outputs": [
    {
     "data": {
      "text/plain": [
       "False"
      ]
     },
     "execution_count": 110,
     "metadata": {},
     "output_type": "execute_result"
    }
   ],
   "source": [
    "cgpa>7.1 and cgpa<=8.0  # B grade"
   ]
  },
  {
   "cell_type": "code",
   "execution_count": 112,
   "id": "86b3138a-a0e3-4420-8f1c-96e3b245fc6f",
   "metadata": {},
   "outputs": [
    {
     "data": {
      "text/plain": [
       "False"
      ]
     },
     "execution_count": 112,
     "metadata": {},
     "output_type": "execute_result"
    }
   ],
   "source": [
    "cgpa>6.1 and cgpa<=7.0 # C grade"
   ]
  },
  {
   "cell_type": "code",
   "execution_count": 116,
   "id": "8043344b-c836-47bc-8d8f-358de70e51db",
   "metadata": {},
   "outputs": [
    {
     "data": {
      "text/plain": [
       "False"
      ]
     },
     "execution_count": 116,
     "metadata": {},
     "output_type": "execute_result"
    }
   ],
   "source": [
    "cgpa>=5.1 and cgpa<=6.0 # D grade"
   ]
  },
  {
   "cell_type": "code",
   "execution_count": 118,
   "id": "39a4f3e8-6931-4245-9509-b15f0806ac20",
   "metadata": {},
   "outputs": [
    {
     "data": {
      "text/plain": [
       "False"
      ]
     },
     "execution_count": 118,
     "metadata": {},
     "output_type": "execute_result"
    }
   ],
   "source": [
    "cgpa <=5.0  # Fail grade"
   ]
  },
  {
   "cell_type": "code",
   "execution_count": 120,
   "id": "0e435fec-d46d-46bc-8d68-775f9b670ec9",
   "metadata": {},
   "outputs": [],
   "source": [
    "#list\n"
   ]
  },
  {
   "cell_type": "code",
   "execution_count": 122,
   "id": "d41e5cc6-e16e-4cbc-b468-134571bbdbaf",
   "metadata": {},
   "outputs": [
    {
     "data": {
      "text/plain": [
       "[300, 56.75, 'vivek', True]"
      ]
     },
     "execution_count": 122,
     "metadata": {},
     "output_type": "execute_result"
    }
   ],
   "source": [
    "\n",
    "#  list:it can be mutable(it value can be changing) \n",
    "# homogeneous list\n",
    "\n",
    "a = [300,56.75,\"vivek\",True]\n",
    "a"
   ]
  },
  {
   "cell_type": "code",
   "execution_count": 124,
   "id": "bb5a96ad-2a42-4d27-9c69-3675f7f7432f",
   "metadata": {},
   "outputs": [
    {
     "data": {
      "text/plain": [
       "list"
      ]
     },
     "execution_count": 124,
     "metadata": {},
     "output_type": "execute_result"
    }
   ],
   "source": [
    "type(a)"
   ]
  },
  {
   "cell_type": "code",
   "execution_count": 126,
   "id": "45a0bd70-cd0c-4cfa-a138-2ffce6edcc07",
   "metadata": {},
   "outputs": [
    {
     "data": {
      "text/plain": [
       "['data', True, 40.56, 450, 'hyderabad', 43, 65, 24.54]"
      ]
     },
     "execution_count": 126,
     "metadata": {},
     "output_type": "execute_result"
    }
   ],
   "source": [
    "v = ['data',True,40.56,450,'hyderabad',43,65,24.54]\n",
    "v"
   ]
  },
  {
   "cell_type": "code",
   "execution_count": 130,
   "id": "dc9bd830-2960-4f41-9ac4-dfb02a17b493",
   "metadata": {},
   "outputs": [
    {
     "data": {
      "text/plain": [
       "'data'"
      ]
     },
     "execution_count": 130,
     "metadata": {},
     "output_type": "execute_result"
    }
   ],
   "source": [
    "# indexing\n",
    "\n",
    "v[0]"
   ]
  },
  {
   "cell_type": "code",
   "execution_count": 132,
   "id": "15b11e5b-1ee0-4954-bf66-2c75c0bb0961",
   "metadata": {},
   "outputs": [
    {
     "data": {
      "text/plain": [
       "True"
      ]
     },
     "execution_count": 132,
     "metadata": {},
     "output_type": "execute_result"
    }
   ],
   "source": [
    "v[1]"
   ]
  },
  {
   "cell_type": "code",
   "execution_count": 134,
   "id": "480d668c-2530-40f6-a6df-b481f9e488aa",
   "metadata": {},
   "outputs": [
    {
     "data": {
      "text/plain": [
       "[True, 40.56]"
      ]
     },
     "execution_count": 134,
     "metadata": {},
     "output_type": "execute_result"
    }
   ],
   "source": [
    "# slicing\n",
    "# here we have three points in slice\n",
    "#starting and ending and steps\n",
    "\n",
    "v[1 : 3]"
   ]
  },
  {
   "cell_type": "code",
   "execution_count": 136,
   "id": "a4de0c68-8652-4a6f-90e8-3faf135cbf8d",
   "metadata": {},
   "outputs": [
    {
     "data": {
      "text/plain": [
       "['data', True, 40.56, 450, 'hyderabad', 43, 65, 24.54]"
      ]
     },
     "execution_count": 136,
     "metadata": {},
     "output_type": "execute_result"
    }
   ],
   "source": [
    "v"
   ]
  },
  {
   "cell_type": "code",
   "execution_count": 138,
   "id": "6957beea-e03f-4db2-b53b-05ffdd970977",
   "metadata": {},
   "outputs": [
    {
     "data": {
      "text/plain": [
       "['data', 450, 65]"
      ]
     },
     "execution_count": 138,
     "metadata": {},
     "output_type": "execute_result"
    }
   ],
   "source": [
    "v[0::3]"
   ]
  },
  {
   "cell_type": "code",
   "execution_count": 140,
   "id": "350762be-44e9-4b98-b31d-54352d3fb139",
   "metadata": {},
   "outputs": [
    {
     "data": {
      "text/plain": [
       "['data', 40.56, 'hyderabad', 65]"
      ]
     },
     "execution_count": 140,
     "metadata": {},
     "output_type": "execute_result"
    }
   ],
   "source": [
    "# start : end : steps\n",
    "v[0:8:2]\n"
   ]
  },
  {
   "cell_type": "code",
   "execution_count": 144,
   "id": "c2cfd90e-f67b-43a6-9d86-129fa9cb639c",
   "metadata": {},
   "outputs": [
    {
     "data": {
      "text/plain": [
       "[43, 65]"
      ]
     },
     "execution_count": 144,
     "metadata": {},
     "output_type": "execute_result"
    }
   ],
   "source": [
    "# negative indexing\n",
    "v[-3:-1]"
   ]
  },
  {
   "cell_type": "code",
   "execution_count": 148,
   "id": "45644734-3fec-45bd-9c3e-bfa54a6048be",
   "metadata": {},
   "outputs": [
    {
     "data": {
      "text/plain": [
       "['data', True, 40.56, 450, 'hyderabad', 43, 65, 24.54]"
      ]
     },
     "execution_count": 148,
     "metadata": {},
     "output_type": "execute_result"
    }
   ],
   "source": [
    "v"
   ]
  },
  {
   "cell_type": "code",
   "execution_count": 150,
   "id": "23f885a4-6563-4877-81af-ab54a81122f4",
   "metadata": {},
   "outputs": [
    {
     "data": {
      "text/plain": [
       "True"
      ]
     },
     "execution_count": 150,
     "metadata": {},
     "output_type": "execute_result"
    }
   ],
   "source": [
    "\n",
    "v[1]"
   ]
  },
  {
   "cell_type": "code",
   "execution_count": 152,
   "id": "f8369ecf-8a87-47b6-bb7a-179e7c72f607",
   "metadata": {},
   "outputs": [
    {
     "data": {
      "text/plain": [
       "True"
      ]
     },
     "execution_count": 152,
     "metadata": {},
     "output_type": "execute_result"
    }
   ],
   "source": [
    "\n",
    "v[-7]"
   ]
  },
  {
   "cell_type": "code",
   "execution_count": 154,
   "id": "c6037d5e-c6ab-4963-b786-fc9c029be53f",
   "metadata": {},
   "outputs": [
    {
     "data": {
      "text/plain": [
       "['hyderabad', 450, 40.56, True]"
      ]
     },
     "execution_count": 154,
     "metadata": {},
     "output_type": "execute_result"
    }
   ],
   "source": [
    "v[-4:-8:-1]"
   ]
  },
  {
   "cell_type": "code",
   "execution_count": 156,
   "id": "e695f2ef-05ee-426b-a495-c67c19bad8ae",
   "metadata": {},
   "outputs": [
    {
     "data": {
      "text/plain": [
       "[65, 43, 'hyderabad', 450]"
      ]
     },
     "execution_count": 156,
     "metadata": {},
     "output_type": "execute_result"
    }
   ],
   "source": [
    "v[6:2:-1]"
   ]
  },
  {
   "cell_type": "code",
   "execution_count": 158,
   "id": "fee2a601-9f4f-49eb-a7ac-5e34dcec4c87",
   "metadata": {},
   "outputs": [
    {
     "data": {
      "text/plain": [
       "[2, 'durga', 5.6, True, False, 4.33, 54]"
      ]
     },
     "execution_count": 158,
     "metadata": {},
     "output_type": "execute_result"
    }
   ],
   "source": [
    "# my own example on list\n",
    "\n",
    "r=[2,'durga',5.6,True,False,4.33,54]\n",
    "r"
   ]
  },
  {
   "cell_type": "code",
   "execution_count": 162,
   "id": "8fc736a4-2558-4e72-866f-245cee766513",
   "metadata": {},
   "outputs": [
    {
     "data": {
      "text/plain": [
       "5.6"
      ]
     },
     "execution_count": 162,
     "metadata": {},
     "output_type": "execute_result"
    }
   ],
   "source": [
    "r[2]"
   ]
  },
  {
   "cell_type": "code",
   "execution_count": 164,
   "id": "92f718bb-682c-420b-9fb5-12fcc82f9f07",
   "metadata": {},
   "outputs": [
    {
     "data": {
      "text/plain": [
       "False"
      ]
     },
     "execution_count": 164,
     "metadata": {},
     "output_type": "execute_result"
    }
   ],
   "source": [
    "r[4]"
   ]
  },
  {
   "cell_type": "code",
   "execution_count": 168,
   "id": "bbf435c4-90f2-4d60-97a8-88e0c6585986",
   "metadata": {},
   "outputs": [
    {
     "data": {
      "text/plain": [
       "[2, 'durga', 5.6, True]"
      ]
     },
     "execution_count": 168,
     "metadata": {},
     "output_type": "execute_result"
    }
   ],
   "source": [
    "r[0:4]"
   ]
  },
  {
   "cell_type": "code",
   "execution_count": 170,
   "id": "6bfd46f8-5f32-4cb9-a690-46c066488b94",
   "metadata": {},
   "outputs": [
    {
     "data": {
      "text/plain": [
       "[4.33, False, True, 5.6]"
      ]
     },
     "execution_count": 170,
     "metadata": {},
     "output_type": "execute_result"
    }
   ],
   "source": [
    "r[-2:-6:-1]"
   ]
  },
  {
   "cell_type": "code",
   "execution_count": 172,
   "id": "80baf34f-2a33-44b1-a4e9-49e39300d533",
   "metadata": {},
   "outputs": [
    {
     "data": {
      "text/plain": [
       "[5.6, True, False, 4.33]"
      ]
     },
     "execution_count": 172,
     "metadata": {},
     "output_type": "execute_result"
    }
   ],
   "source": [
    "r[2:6:1]"
   ]
  },
  {
   "cell_type": "code",
   "execution_count": 174,
   "id": "8c8bc579-5fea-41cb-9ff0-531d5232ef66",
   "metadata": {},
   "outputs": [
    {
     "data": {
      "text/plain": [
       "[5.6, True]"
      ]
     },
     "execution_count": 174,
     "metadata": {},
     "output_type": "execute_result"
    }
   ],
   "source": [
    "\n",
    "r[2:4]"
   ]
  },
  {
   "cell_type": "code",
   "execution_count": 176,
   "id": "8b497d3a-15fa-48f3-a605-112e25ba0b3f",
   "metadata": {},
   "outputs": [
    {
     "data": {
      "text/plain": [
       "[4.33, False, True]"
      ]
     },
     "execution_count": 176,
     "metadata": {},
     "output_type": "execute_result"
    }
   ],
   "source": [
    "r[-2:-5:-1]"
   ]
  },
  {
   "cell_type": "raw",
   "id": "2ff8c6f5-24af-4de8-ad4b-e38c828993e6",
   "metadata": {},
   "source": [
    "r[-2:-5:-1]"
   ]
  },
  {
   "cell_type": "code",
   "execution_count": 180,
   "id": "147ccd57-92bb-4fb7-9f02-bded36fe2003",
   "metadata": {},
   "outputs": [],
   "source": [
    "#collection in python "
   ]
  },
  {
   "cell_type": "code",
   "execution_count": 182,
   "id": "5cdc10d4-3b80-4d9e-81c0-8934af27622f",
   "metadata": {},
   "outputs": [],
   "source": [
    "#list methods\n",
    "#list is mutable. why means it can be change any where."
   ]
  },
  {
   "cell_type": "code",
   "execution_count": 184,
   "id": "3503febc-4c1e-41b2-a067-612621d535d5",
   "metadata": {},
   "outputs": [],
   "source": [
    "r.append(4)"
   ]
  },
  {
   "cell_type": "code",
   "execution_count": 186,
   "id": "e7222197-b5b1-4389-a363-d78b1950b0f9",
   "metadata": {},
   "outputs": [
    {
     "data": {
      "text/plain": [
       "[2, 'durga', 5.6, True, False, 4.33, 54, 4]"
      ]
     },
     "execution_count": 186,
     "metadata": {},
     "output_type": "execute_result"
    }
   ],
   "source": [
    "r"
   ]
  },
  {
   "cell_type": "code",
   "execution_count": 192,
   "id": "b7ee3a58-6ac3-46e8-9b4a-5a62d0bd1d85",
   "metadata": {},
   "outputs": [
    {
     "data": {
      "text/plain": [
       "54"
      ]
     },
     "execution_count": 192,
     "metadata": {},
     "output_type": "execute_result"
    }
   ],
   "source": [
    "r.pop(5)"
   ]
  },
  {
   "cell_type": "code",
   "execution_count": 194,
   "id": "14cc2c6c-4440-4f74-a802-fd462026fd19",
   "metadata": {},
   "outputs": [
    {
     "data": {
      "text/plain": [
       "[2, 'durga', 5.6, True, False, 4]"
      ]
     },
     "execution_count": 194,
     "metadata": {},
     "output_type": "execute_result"
    }
   ],
   "source": [
    "r"
   ]
  },
  {
   "cell_type": "code",
   "execution_count": 198,
   "id": "5ed193ff-3810-4d42-b107-ee239c830a6f",
   "metadata": {},
   "outputs": [],
   "source": [
    "\n",
    "r.append(4)"
   ]
  },
  {
   "cell_type": "code",
   "execution_count": 200,
   "id": "e093c824-d253-47a5-bb16-1e79c6f4a0ba",
   "metadata": {},
   "outputs": [
    {
     "data": {
      "text/plain": [
       "[2, 'durga', 5.6, True, False, 4, 4, 4]"
      ]
     },
     "execution_count": 200,
     "metadata": {},
     "output_type": "execute_result"
    }
   ],
   "source": [
    "r"
   ]
  },
  {
   "cell_type": "code",
   "execution_count": 202,
   "id": "80e1ee89-734f-4d2b-a887-fa4d8b0e5e5f",
   "metadata": {},
   "outputs": [],
   "source": [
    "r.clear()"
   ]
  },
  {
   "cell_type": "code",
   "execution_count": 204,
   "id": "99239739-a42a-4a86-a474-5369f966de08",
   "metadata": {},
   "outputs": [
    {
     "data": {
      "text/plain": [
       "[]"
      ]
     },
     "execution_count": 204,
     "metadata": {},
     "output_type": "execute_result"
    }
   ],
   "source": [
    "r"
   ]
  },
  {
   "cell_type": "code",
   "execution_count": 206,
   "id": "4e976421-b9b0-438f-b4c3-39fa9ab83883",
   "metadata": {},
   "outputs": [],
   "source": [
    "r.append(all)"
   ]
  },
  {
   "cell_type": "code",
   "execution_count": 208,
   "id": "2a53eafc-bc8e-4774-a552-96e8467e9f92",
   "metadata": {},
   "outputs": [
    {
     "data": {
      "text/plain": [
       "[<function all(iterable, /)>]"
      ]
     },
     "execution_count": 208,
     "metadata": {},
     "output_type": "execute_result"
    }
   ],
   "source": [
    "r"
   ]
  },
  {
   "cell_type": "code",
   "execution_count": 210,
   "id": "7eba8fe1-8567-45df-9b81-00ca09c857e2",
   "metadata": {},
   "outputs": [
    {
     "data": {
      "text/plain": [
       "list"
      ]
     },
     "execution_count": 210,
     "metadata": {},
     "output_type": "execute_result"
    }
   ],
   "source": [
    "type(r)"
   ]
  },
  {
   "cell_type": "code",
   "execution_count": 220,
   "id": "1d248692-13db-4353-8378-1f260c13aae7",
   "metadata": {},
   "outputs": [
    {
     "data": {
      "text/plain": [
       "['dulu', 6.7]"
      ]
     },
     "execution_count": 220,
     "metadata": {},
     "output_type": "execute_result"
    }
   ],
   "source": [
    "r=['dulu',6.7]\n",
    "r"
   ]
  },
  {
   "cell_type": "code",
   "execution_count": 222,
   "id": "05284b45-fc9e-455c-821f-af836095959b",
   "metadata": {},
   "outputs": [
    {
     "data": {
      "text/plain": [
       "0"
      ]
     },
     "execution_count": 222,
     "metadata": {},
     "output_type": "execute_result"
    }
   ],
   "source": [
    "\n",
    "r.count(5)\n"
   ]
  },
  {
   "cell_type": "code",
   "execution_count": 224,
   "id": "8aa126ea-dfa8-44de-aa06-42bcf664338e",
   "metadata": {},
   "outputs": [
    {
     "data": {
      "text/plain": [
       "['dulu', 6.7, 5, 'durga']"
      ]
     },
     "execution_count": 224,
     "metadata": {},
     "output_type": "execute_result"
    }
   ],
   "source": [
    "r.extend([5,'durga'])\n",
    "r\n"
   ]
  },
  {
   "cell_type": "code",
   "execution_count": 226,
   "id": "2f82c51d-6900-4608-87a0-7f0555079f7e",
   "metadata": {},
   "outputs": [
    {
     "data": {
      "text/plain": [
       "['dulu', 6.7, 5, 'durga', 2]"
      ]
     },
     "execution_count": 226,
     "metadata": {},
     "output_type": "execute_result"
    }
   ],
   "source": [
    "r.insert(6,2)\n",
    "r"
   ]
  },
  {
   "cell_type": "code",
   "execution_count": null,
   "id": "bc41d721-50ae-48d3-b7e1-1e9393781483",
   "metadata": {},
   "outputs": [],
   "source": [
    "#tuple\n",
    "#tuple  is immutable"
   ]
  },
  {
   "cell_type": "code",
   "execution_count": 228,
   "id": "3b2b6331-1868-42f4-a2b0-53e7c3245af5",
   "metadata": {},
   "outputs": [
    {
     "data": {
      "text/plain": [
       "('chitti', 3, 4.5)"
      ]
     },
     "execution_count": 228,
     "metadata": {},
     "output_type": "execute_result"
    }
   ],
   "source": [
    "x=('chitti',3,4.5)\n",
    "x"
   ]
  },
  {
   "cell_type": "code",
   "execution_count": 230,
   "id": "dcf0b1ac-bcc3-4e2f-aad3-e3f8aa6033f6",
   "metadata": {},
   "outputs": [
    {
     "data": {
      "text/plain": [
       "tuple"
      ]
     },
     "execution_count": 230,
     "metadata": {},
     "output_type": "execute_result"
    }
   ],
   "source": [
    "type(x)"
   ]
  },
  {
   "cell_type": "code",
   "execution_count": 232,
   "id": "4f59c51c-8358-4d76-81d8-518f5cb58780",
   "metadata": {},
   "outputs": [
    {
     "data": {
      "text/plain": [
       "(3,)"
      ]
     },
     "execution_count": 232,
     "metadata": {},
     "output_type": "execute_result"
    }
   ],
   "source": [
    "\n",
    "x[1:2]\n"
   ]
  },
  {
   "cell_type": "code",
   "execution_count": 234,
   "id": "a0dbfc32-01d2-434f-bc01-247334cd5bb9",
   "metadata": {},
   "outputs": [
    {
     "data": {
      "text/plain": [
       "3"
      ]
     },
     "execution_count": 234,
     "metadata": {},
     "output_type": "execute_result"
    }
   ],
   "source": [
    "x[1]"
   ]
  },
  {
   "cell_type": "code",
   "execution_count": 236,
   "id": "54963840-26f7-4eeb-ae5f-eac421a74c77",
   "metadata": {},
   "outputs": [
    {
     "data": {
      "text/plain": [
       "4.5"
      ]
     },
     "execution_count": 236,
     "metadata": {},
     "output_type": "execute_result"
    }
   ],
   "source": [
    "x[2]"
   ]
  },
  {
   "cell_type": "code",
   "execution_count": 240,
   "id": "e4fd3d4a-6e06-419c-8513-1e743df3d44f",
   "metadata": {},
   "outputs": [
    {
     "data": {
      "text/plain": [
       "('chitti', 3, 4.5)"
      ]
     },
     "execution_count": 240,
     "metadata": {},
     "output_type": "execute_result"
    }
   ],
   "source": [
    "\n",
    "x[0:3]"
   ]
  },
  {
   "cell_type": "code",
   "execution_count": 242,
   "id": "b2daf2e6-d760-418e-90bf-ac1e683ebd7c",
   "metadata": {},
   "outputs": [
    {
     "data": {
      "text/plain": [
       "1"
      ]
     },
     "execution_count": 242,
     "metadata": {},
     "output_type": "execute_result"
    }
   ],
   "source": [
    "x.count(4.5)"
   ]
  },
  {
   "cell_type": "code",
   "execution_count": 244,
   "id": "24a5d6d3-23c5-4aab-9ab4-bab5c7dc43d3",
   "metadata": {},
   "outputs": [
    {
     "data": {
      "text/plain": [
       "1"
      ]
     },
     "execution_count": 244,
     "metadata": {},
     "output_type": "execute_result"
    }
   ],
   "source": [
    "x.index(3)"
   ]
  },
  {
   "cell_type": "code",
   "execution_count": 248,
   "id": "8d7711ce-980a-46a3-8094-d971473bdbca",
   "metadata": {},
   "outputs": [
    {
     "data": {
      "text/plain": [
       "8"
      ]
     },
     "execution_count": 248,
     "metadata": {},
     "output_type": "execute_result"
    }
   ],
   "source": [
    "len(v)"
   ]
  },
  {
   "cell_type": "markdown",
   "id": "2908629d-5cb0-4ecc-82fa-80f2a373feda",
   "metadata": {},
   "source": [
    "#set"
   ]
  },
  {
   "cell_type": "code",
   "execution_count": 250,
   "id": "f99353c1-06f3-4e9a-83f9-098e0d2454f0",
   "metadata": {},
   "outputs": [
    {
     "data": {
      "text/plain": [
       "{32, 33, 34, 43, 45, 56, 400, 678}"
      ]
     },
     "execution_count": 250,
     "metadata": {},
     "output_type": "execute_result"
    }
   ],
   "source": [
    "s={45,32,400,56,34,33,43,34,34,678}\n",
    "s"
   ]
  },
  {
   "cell_type": "code",
   "execution_count": 252,
   "id": "63e2684c-010c-404d-b9f9-f0458b89ec7f",
   "metadata": {},
   "outputs": [
    {
     "data": {
      "text/plain": [
       "set"
      ]
     },
     "execution_count": 252,
     "metadata": {},
     "output_type": "execute_result"
    }
   ],
   "source": [
    "type(s)"
   ]
  },
  {
   "cell_type": "code",
   "execution_count": 256,
   "id": "89d46ddc-c628-472a-a352-5ec427cc5689",
   "metadata": {},
   "outputs": [
    {
     "data": {
      "text/plain": [
       "8"
      ]
     },
     "execution_count": 256,
     "metadata": {},
     "output_type": "execute_result"
    }
   ],
   "source": [
    "len(s)"
   ]
  },
  {
   "cell_type": "code",
   "execution_count": 260,
   "id": "6771bf70-07d0-48cb-b50c-6ca184ca9ea2",
   "metadata": {},
   "outputs": [
    {
     "data": {
      "text/plain": [
       "{3, 32, 33, 34, 43, 45, 56, 400, 678}"
      ]
     },
     "execution_count": 260,
     "metadata": {},
     "output_type": "execute_result"
    }
   ],
   "source": [
    "s.add(3)\n",
    "s"
   ]
  },
  {
   "cell_type": "code",
   "execution_count": 270,
   "id": "8b6cc4ac-28a0-4623-bf05-7d2c0bfe242b",
   "metadata": {},
   "outputs": [
    {
     "data": {
      "text/plain": [
       "{3, 32, 33, 34, 43, 45, 56, 400}"
      ]
     },
     "execution_count": 270,
     "metadata": {},
     "output_type": "execute_result"
    }
   ],
   "source": [
    "\n",
    "s.remove(678)\n",
    "s"
   ]
  },
  {
   "cell_type": "code",
   "execution_count": 280,
   "id": "49f0f827-faed-49f1-b369-5683afc521a3",
   "metadata": {},
   "outputs": [
    {
     "data": {
      "text/plain": [
       "{3, 4}"
      ]
     },
     "execution_count": 280,
     "metadata": {},
     "output_type": "execute_result"
    }
   ],
   "source": [
    "\n",
    "y={3,4}\n",
    "y"
   ]
  },
  {
   "cell_type": "code",
   "execution_count": 282,
   "id": "d20db75c-6a63-4f19-b2a5-c004cede2f4c",
   "metadata": {},
   "outputs": [
    {
     "data": {
      "text/plain": [
       "{3, 4, 32, 33, 34, 43, 45, 56, 400}"
      ]
     },
     "execution_count": 282,
     "metadata": {},
     "output_type": "execute_result"
    }
   ],
   "source": [
    "s.union(y)"
   ]
  },
  {
   "cell_type": "code",
   "execution_count": 284,
   "id": "651e5a20-f51b-454b-9967-496952500f9c",
   "metadata": {},
   "outputs": [
    {
     "data": {
      "text/plain": [
       "{32, 33, 34, 43, 45, 56, 400}"
      ]
     },
     "execution_count": 284,
     "metadata": {},
     "output_type": "execute_result"
    }
   ],
   "source": [
    "s.difference(y)"
   ]
  },
  {
   "cell_type": "code",
   "execution_count": 286,
   "id": "094a735d-7b7f-40ad-8151-985aa64fbae2",
   "metadata": {},
   "outputs": [
    {
     "data": {
      "text/plain": [
       "{3}"
      ]
     },
     "execution_count": 286,
     "metadata": {},
     "output_type": "execute_result"
    }
   ],
   "source": [
    "s.intersection(y)"
   ]
  },
  {
   "cell_type": "code",
   "execution_count": 288,
   "id": "cb3378a4-eaea-48cc-bd23-fedfa7d8270e",
   "metadata": {},
   "outputs": [
    {
     "data": {
      "text/plain": [
       "{4}"
      ]
     },
     "execution_count": 288,
     "metadata": {},
     "output_type": "execute_result"
    }
   ],
   "source": [
    "y.difference(s)"
   ]
  },
  {
   "cell_type": "code",
   "execution_count": null,
   "id": "c2692ed9-75bc-4944-9a87-d48e5e2d81d2",
   "metadata": {},
   "outputs": [],
   "source": [
    "#dictionary\n",
    "in dictionary we use the to store the value is keys:value pairs,in no sql database also store the value in keys:value pairs. it is json format."
   ]
  },
  {
   "cell_type": "code",
   "execution_count": 290,
   "id": "4e0d2641-42ab-4a6b-afc0-faf3e3375b55",
   "metadata": {},
   "outputs": [
    {
     "data": {
      "text/plain": [
       "{'name': 'vivek'}"
      ]
     },
     "execution_count": 290,
     "metadata": {},
     "output_type": "execute_result"
    }
   ],
   "source": [
    "e={\"name\":\"vivek\"}\n",
    "e"
   ]
  },
  {
   "cell_type": "code",
   "execution_count": 292,
   "id": "8ca4235e-f000-4ae1-aa77-67cf28ec400b",
   "metadata": {},
   "outputs": [
    {
     "data": {
      "text/plain": [
       "dict"
      ]
     },
     "execution_count": 292,
     "metadata": {},
     "output_type": "execute_result"
    }
   ],
   "source": [
    "type(e)"
   ]
  },
  {
   "cell_type": "code",
   "execution_count": 294,
   "id": "a1952004-bd35-4dec-a400-590020ee8013",
   "metadata": {},
   "outputs": [
    {
     "data": {
      "text/plain": [
       "{100: 3, 45: 4, 4: 3, 5: [3, 22, 56]}"
      ]
     },
     "execution_count": 294,
     "metadata": {},
     "output_type": "execute_result"
    }
   ],
   "source": [
    "e={100:3,45:4,4:3,5:[3,22,56]}\n",
    "e"
   ]
  },
  {
   "cell_type": "code",
   "execution_count": 296,
   "id": "a4e7e264-ee00-4772-8c83-89d77ff47c9d",
   "metadata": {},
   "outputs": [
    {
     "data": {
      "text/plain": [
       "{100: 32, 45: 4, 4: 3, 5: [3, 22, 56]}"
      ]
     },
     "execution_count": 296,
     "metadata": {},
     "output_type": "execute_result"
    }
   ],
   "source": [
    "\n",
    "e[100]=32\n",
    "e.update({})\n",
    "e\n"
   ]
  },
  {
   "cell_type": "code",
   "execution_count": 298,
   "id": "4bfb810e-8619-49f4-b9e2-8ce2540b8ed7",
   "metadata": {},
   "outputs": [
    {
     "data": {
      "text/plain": [
       "dict_keys([100, 45, 4, 5])"
      ]
     },
     "execution_count": 298,
     "metadata": {},
     "output_type": "execute_result"
    }
   ],
   "source": [
    "e.keys()"
   ]
  },
  {
   "cell_type": "code",
   "execution_count": 300,
   "id": "517bfe37-2de5-46ac-9f0e-f72b305da111",
   "metadata": {},
   "outputs": [
    {
     "data": {
      "text/plain": [
       "dict_keys([100, 45, 4, 5])"
      ]
     },
     "execution_count": 300,
     "metadata": {},
     "output_type": "execute_result"
    }
   ],
   "source": [
    "e.keys()"
   ]
  },
  {
   "cell_type": "code",
   "execution_count": 302,
   "id": "6f6260a7-4733-4487-a229-8d4ecea91479",
   "metadata": {},
   "outputs": [
    {
     "data": {
      "text/plain": [
       "dict_items([(100, 32), (45, 4), (4, 3), (5, [3, 22, 56])])"
      ]
     },
     "execution_count": 302,
     "metadata": {},
     "output_type": "execute_result"
    }
   ],
   "source": [
    "e.items()\n"
   ]
  },
  {
   "cell_type": "code",
   "execution_count": 304,
   "id": "36abeef5-7981-4b8b-9cb8-8fcf318a4d5f",
   "metadata": {},
   "outputs": [
    {
     "data": {
      "text/plain": [
       "{100: 'india', 45: 4, 4: 3, 5: [3, 22, 56]}"
      ]
     },
     "execution_count": 304,
     "metadata": {},
     "output_type": "execute_result"
    }
   ],
   "source": [
    "e.update({100:'india'})\n",
    "e"
   ]
  },
  {
   "cell_type": "code",
   "execution_count": 306,
   "id": "e72dd86e-8ba2-40e5-96d0-e9d8f93817fb",
   "metadata": {},
   "outputs": [],
   "source": [
    "del e[4]"
   ]
  },
  {
   "cell_type": "code",
   "execution_count": 308,
   "id": "47872568-e9be-43e4-beb3-855f97ee0be7",
   "metadata": {},
   "outputs": [
    {
     "data": {
      "text/plain": [
       "{100: 'india', 45: 4, 5: [3, 22, 56]}"
      ]
     },
     "execution_count": 308,
     "metadata": {},
     "output_type": "execute_result"
    }
   ],
   "source": [
    "e"
   ]
  },
  {
   "cell_type": "code",
   "execution_count": 312,
   "id": "08cfdfcf-5c33-4d8b-beda-770b3ae6b1b5",
   "metadata": {},
   "outputs": [
    {
     "data": {
      "text/plain": [
       "{100: 'india', 45: 'viva', 5: [3, 22, 56]}"
      ]
     },
     "execution_count": 312,
     "metadata": {},
     "output_type": "execute_result"
    }
   ],
   "source": [
    "e.update({45:\"viva\"})\n",
    "e"
   ]
  },
  {
   "cell_type": "code",
   "execution_count": 316,
   "id": "bf9adee3-803c-4bdd-a89d-1913ca650450",
   "metadata": {},
   "outputs": [
    {
     "data": {
      "text/plain": [
       "'viva'"
      ]
     },
     "execution_count": 316,
     "metadata": {},
     "output_type": "execute_result"
    }
   ],
   "source": [
    "e.get(45)"
   ]
  },
  {
   "cell_type": "code",
   "execution_count": 320,
   "id": "4603e475-6e34-4c37-8747-4a2f8a43aaaf",
   "metadata": {},
   "outputs": [
    {
     "data": {
      "text/plain": [
       "str"
      ]
     },
     "execution_count": 320,
     "metadata": {},
     "output_type": "execute_result"
    }
   ],
   "source": [
    "type(e[100])"
   ]
  },
  {
   "cell_type": "markdown",
   "id": "4a991b79-7e75-47a7-a12b-50ee102b2029",
   "metadata": {},
   "source": [
    "#string methods"
   ]
  },
  {
   "cell_type": "code",
   "execution_count": 322,
   "id": "06fa4e40-908a-476d-a1dc-4cb6a5aa3a13",
   "metadata": {},
   "outputs": [
    {
     "data": {
      "text/plain": [
       "'india'"
      ]
     },
     "execution_count": 322,
     "metadata": {},
     "output_type": "execute_result"
    }
   ],
   "source": [
    "a=\"india\"\n",
    "a"
   ]
  },
  {
   "cell_type": "code",
   "execution_count": 324,
   "id": "da27a4cc-c5ec-462b-a487-1fcfdead4f3e",
   "metadata": {},
   "outputs": [
    {
     "data": {
      "text/plain": [
       "'india'"
      ]
     },
     "execution_count": 324,
     "metadata": {},
     "output_type": "execute_result"
    }
   ],
   "source": [
    "a.lower()"
   ]
  },
  {
   "cell_type": "code",
   "execution_count": 328,
   "id": "666c550d-1ecd-4324-9aaf-ef638b3ebc0d",
   "metadata": {},
   "outputs": [
    {
     "data": {
      "text/plain": [
       "'india'"
      ]
     },
     "execution_count": 328,
     "metadata": {},
     "output_type": "execute_result"
    }
   ],
   "source": [
    "\n",
    "e[100].lower()"
   ]
  },
  {
   "cell_type": "code",
   "execution_count": 330,
   "id": "507d65d0-7039-4a2e-ac40-e45bf09d5dd1",
   "metadata": {},
   "outputs": [
    {
     "data": {
      "text/plain": [
       "False"
      ]
     },
     "execution_count": 330,
     "metadata": {},
     "output_type": "execute_result"
    }
   ],
   "source": [
    "a.isdigit()"
   ]
  },
  {
   "cell_type": "code",
   "execution_count": 335,
   "id": "f75208b2-a3c0-4d2d-a723-ba4caaa72558",
   "metadata": {},
   "outputs": [
    {
     "data": {
      "text/plain": [
       "{100: 2, 102: 'vivek', 104: 'kasi', 67: 8, 69: [908, 89, 90]}"
      ]
     },
     "execution_count": 335,
     "metadata": {},
     "output_type": "execute_result"
    }
   ],
   "source": [
    "{100:2,\n",
    " 102:\"vivek\",\n",
    " 104:\"kasi\",\n",
    " 67:8,\n",
    " 69:[908,89,90]\n",
    "}"
   ]
  },
  {
   "cell_type": "code",
   "execution_count": 337,
   "id": "4a3ae5d0-e95a-47c1-b84d-249fac875a84",
   "metadata": {},
   "outputs": [
    {
     "data": {
      "text/plain": [
       "'india'"
      ]
     },
     "execution_count": 337,
     "metadata": {},
     "output_type": "execute_result"
    }
   ],
   "source": [
    "a"
   ]
  },
  {
   "cell_type": "code",
   "execution_count": 341,
   "id": "dc1cfe25-3322-4b7d-8819-bb7772b1b145",
   "metadata": {},
   "outputs": [
    {
     "data": {
      "text/plain": [
       "1"
      ]
     },
     "execution_count": 341,
     "metadata": {},
     "output_type": "execute_result"
    }
   ],
   "source": [
    "e[5].count(56)"
   ]
  },
  {
   "cell_type": "code",
   "execution_count": 349,
   "id": "e4acdcf0-4719-4a42-b074-f23ca9de3f9f",
   "metadata": {},
   "outputs": [],
   "source": [
    "e[5].insert(2,47)"
   ]
  },
  {
   "cell_type": "code",
   "execution_count": 351,
   "id": "a109a941-26b5-4bc6-b77d-31abf4bb69ad",
   "metadata": {},
   "outputs": [
    {
     "data": {
      "text/plain": [
       "{100: 'india', 45: 'viva', 5: [3, 22, 47, 47, 56], 4: (6, 4, 33, 22, 443)}"
      ]
     },
     "execution_count": 351,
     "metadata": {},
     "output_type": "execute_result"
    }
   ],
   "source": [
    "e"
   ]
  },
  {
   "cell_type": "code",
   "execution_count": 345,
   "id": "b2d81c5c-39d4-43b1-af5c-966b656f2d08",
   "metadata": {},
   "outputs": [],
   "source": [
    "e.update({4:(6,4,33,22,443)})"
   ]
  },
  {
   "cell_type": "code",
   "execution_count": 347,
   "id": "2dcdd706-3a7d-45ce-8ea8-1833230e25b7",
   "metadata": {},
   "outputs": [
    {
     "data": {
      "text/plain": [
       "{100: 'india', 45: 'viva', 5: [3, 22, 47, 56], 4: (6, 4, 33, 22, 443)}"
      ]
     },
     "execution_count": 347,
     "metadata": {},
     "output_type": "execute_result"
    }
   ],
   "source": [
    "e"
   ]
  },
  {
   "cell_type": "code",
   "execution_count": 357,
   "id": "faa099e7-46d1-467f-bcf0-542cde626f3c",
   "metadata": {},
   "outputs": [
    {
     "data": {
      "text/plain": [
       "{100: {'t': {4, 22, 33}, 'w': {11, 22.4, 43}, 'r': {3, 30, 41, 55}},\n",
       " 45: 'viva',\n",
       " 5: [3, 22, 47, 47, 56],\n",
       " 4: ('chitti', 3, 2)}"
      ]
     },
     "execution_count": 357,
     "metadata": {},
     "output_type": "execute_result"
    }
   ],
   "source": [
    "e.update({4:(\"chitti\",3,2)})\n",
    "e"
   ]
  },
  {
   "cell_type": "code",
   "execution_count": 355,
   "id": "798edacc-9117-41a6-ab76-0f6f6b327851",
   "metadata": {},
   "outputs": [
    {
     "data": {
      "text/plain": [
       "{100: {'t': {4, 22, 33}, 'w': {11, 22.4, 43}, 'r': {3, 30, 41, 55}},\n",
       " 45: 'viva',\n",
       " 5: [3, 22, 47, 47, 56],\n",
       " 4: ('vivek', 3, 2)}"
      ]
     },
     "execution_count": 355,
     "metadata": {},
     "output_type": "execute_result"
    }
   ],
   "source": [
    "e[100]={'t':{4,33,22},'w':{43,22.4,11},'r':{41,3,55,30}}\n",
    "e"
   ]
  },
  {
   "cell_type": "code",
   "execution_count": 360,
   "id": "ab8ffcf2-e7ac-4ee3-9d05-330b9c17eca3",
   "metadata": {},
   "outputs": [
    {
     "data": {
      "text/plain": [
       "{'t': {4, 22, 33}, 'w': {11, 22.4, 43}, 'r': {3, 30, 41, 55}}"
      ]
     },
     "execution_count": 360,
     "metadata": {},
     "output_type": "execute_result"
    }
   ],
   "source": [
    "e[100]"
   ]
  },
  {
   "cell_type": "code",
   "execution_count": 362,
   "id": "0aa0fbde-c480-4e55-bd5c-2544182334d6",
   "metadata": {},
   "outputs": [
    {
     "data": {
      "text/plain": [
       "{4, 22, 33}"
      ]
     },
     "execution_count": 362,
     "metadata": {},
     "output_type": "execute_result"
    }
   ],
   "source": [
    "e[100]['t']"
   ]
  },
  {
   "cell_type": "code",
   "execution_count": 364,
   "id": "0b5a7806-baa2-4ae5-af63-347f330a7016",
   "metadata": {},
   "outputs": [
    {
     "data": {
      "text/plain": [
       "{100: {'t': {4, 22, 33}, 'w': {11, 22.4, 43}, 'r': {3, 30, 41, 55}},\n",
       " 45: 'viva',\n",
       " 5: [3, 22, 47, 47, 56],\n",
       " 4: ('chitti', 3, 2)}"
      ]
     },
     "execution_count": 364,
     "metadata": {},
     "output_type": "execute_result"
    }
   ],
   "source": [
    "e"
   ]
  },
  {
   "cell_type": "code",
   "execution_count": 370,
   "id": "3a22319d-d162-47bc-9f0a-9830c1459aab",
   "metadata": {},
   "outputs": [],
   "source": [
    "#in python we use the only and, not , or  => not that & and | and ~s "
   ]
  },
  {
   "cell_type": "code",
   "execution_count": null,
   "id": "4d6b5a07-afd3-4c68-a3d7-629bd2c6a525",
   "metadata": {},
   "outputs": [],
   "source": []
  }
 ],
 "metadata": {
  "kernelspec": {
   "display_name": "Python [conda env:base] *",
   "language": "python",
   "name": "conda-base-py"
  },
  "language_info": {
   "codemirror_mode": {
    "name": "ipython",
    "version": 3
   },
   "file_extension": ".py",
   "mimetype": "text/x-python",
   "name": "python",
   "nbconvert_exporter": "python",
   "pygments_lexer": "ipython3",
   "version": "3.12.7"
  }
 },
 "nbformat": 4,
 "nbformat_minor": 5
}
