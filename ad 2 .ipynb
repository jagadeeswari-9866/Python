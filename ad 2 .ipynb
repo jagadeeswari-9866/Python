{
 "cells": [
  {
   "cell_type": "code",
   "execution_count": null,
   "id": "3431821a-dae6-4167-9ae8-70505f95d6c6",
   "metadata": {},
   "outputs": [],
   "source": [
    "#conditional statements"
   ]
  },
  {
   "cell_type": "code",
   "execution_count": null,
   "id": "c5f7708f-29ac-4f4b-95ae-e1f167d7d4c3",
   "metadata": {},
   "outputs": [],
   "source": [
    "if condition1:\n",
    "    task1 block of code\n",
    "elif condition2:\n",
    "    task2 block of code\n",
    "elif condition3:\n",
    "    task3 block of code\n",
    "    . \n",
    "    .\n",
    "    .\n",
    "    .\n",
    "elif condition n:\n",
    "    task n\n",
    "else:\n",
    "    task4 block of code\n",
    "    "
   ]
  },
  {
   "cell_type": "code",
   "execution_count": 3,
   "id": "ab9494cd-564d-4dd3-9a97-ddda564fe3b0",
   "metadata": {},
   "outputs": [
    {
     "name": "stdout",
     "output_type": "stream",
     "text": [
      "even\n"
     ]
    }
   ],
   "source": [
    "t=6\n",
    "if t%2==0:\n",
    "    print(\"even\")\n",
    "else:\n",
    "    print(\"odd\")"
   ]
  },
  {
   "cell_type": "code",
   "execution_count": 5,
   "id": "1586d408-f058-4d72-85ef-e000cc8342c9",
   "metadata": {},
   "outputs": [
    {
     "data": {
      "text/plain": [
       "True"
      ]
     },
     "execution_count": 5,
     "metadata": {},
     "output_type": "execute_result"
    }
   ],
   "source": [
    "\n",
    "t%2==0"
   ]
  },
  {
   "cell_type": "code",
   "execution_count": 7,
   "id": "9740872e-25b7-4b18-b221-76577f54c2ef",
   "metadata": {},
   "outputs": [
    {
     "name": "stdout",
     "output_type": "stream",
     "text": [
      "neg\n"
     ]
    }
   ],
   "source": [
    "x=-5.3\n",
    "if x>0:\n",
    "    print('pos')\n",
    "elif x<0:\n",
    "    print('neg')\n",
    "else:\n",
    "    print('zero')"
   ]
  },
  {
   "cell_type": "code",
   "execution_count": 9,
   "id": "98101d96-1170-4eb2-97e4-53e5699b55b0",
   "metadata": {},
   "outputs": [
    {
     "name": "stdout",
     "output_type": "stream",
     "text": [
      "zero\n"
     ]
    }
   ],
   "source": [
    "x=-5.3+5.3\n",
    "if x>0:\n",
    "    print('pos')\n",
    "elif x<0:\n",
    "    print('neg')\n",
    "else:\n",
    "    print('zero')"
   ]
  },
  {
   "cell_type": "code",
   "execution_count": 11,
   "id": "90cc0101-8b3c-4418-8dc0-406cd4cb7cea",
   "metadata": {},
   "outputs": [
    {
     "name": "stdout",
     "output_type": "stream",
     "text": [
      "pos\n",
      "t\n"
     ]
    }
   ],
   "source": [
    "\n",
    "x=15\n",
    "if x>0:\n",
    "    print('pos')\n",
    "    if x>20:\n",
    "        print('m')\n",
    "    elif x>10:\n",
    "        print('t')\n",
    "    elif x<10:\n",
    "        print('u')\n",
    "    else:\n",
    "        print('r')\n",
    "elif x<0:\n",
    "    print('neg')\n",
    "    if x<-20:\n",
    "        print('a')\n",
    "    elif x>-10:\n",
    "        print('f')\n",
    "    elif x>-30:\n",
    "        print('y')\n",
    "else:\n",
    "    print('zero')"
   ]
  },
  {
   "cell_type": "code",
   "execution_count": 13,
   "id": "26a44b13-3d62-4ecc-8a19-b2e215a7dd7e",
   "metadata": {},
   "outputs": [
    {
     "name": "stdout",
     "output_type": "stream",
     "text": [
      "r\n"
     ]
    }
   ],
   "source": [
    "y=10\n",
    "if y>5:\n",
    "    print('r')\n",
    "elif y>4:\n",
    "    print('e')\n",
    "elif y>7:\n",
    "    print('w')\n",
    "else:\n",
    "    print('a')"
   ]
  },
  {
   "cell_type": "code",
   "execution_count": 15,
   "id": "83069daa-49a4-4dc2-8be5-631623581194",
   "metadata": {},
   "outputs": [
    {
     "name": "stdout",
     "output_type": "stream",
     "text": [
      "x1\n"
     ]
    }
   ],
   "source": [
    "x1='telangana'\n",
    "x2='Tiger'\n",
    "x3='Tan'\n",
    "if x1>x2:\n",
    "    print('x1')\n",
    "elif x2>x3:\n",
    "    print('x2')\n",
    "else:\n",
    "    print('x3')"
   ]
  },
  {
   "cell_type": "code",
   "execution_count": 17,
   "id": "c7cb4c88-c9e8-4889-8812-45ad255a499d",
   "metadata": {},
   "outputs": [
    {
     "name": "stdout",
     "output_type": "stream",
     "text": [
      "yes\n"
     ]
    }
   ],
   "source": [
    "x='tiger'\n",
    "if x[0]=='t'or x[0]=='T':\n",
    "    print('yes')\n",
    "else:\n",
    "    print('no')"
   ]
  },
  {
   "cell_type": "code",
   "execution_count": 19,
   "id": "a039d572-99b7-4296-b0c2-1da764b77288",
   "metadata": {},
   "outputs": [
    {
     "name": "stdout",
     "output_type": "stream",
     "text": [
      "yes\n",
      "yes\n"
     ]
    }
   ],
   "source": [
    "x='telangana'\n",
    "x='Tiger'\n",
    "x='Tan'\n",
    "if x[0]=='t' or x[0]=='T':\n",
    "    print('yes')\n",
    "    if x[0]=='t' or x[0]=='T':\n",
    "        print('yes')\n",
    "    else:\n",
    "        print('no')\n",
    "        if x[0]=='t' or x[0]=='T':\n",
    "            print('yes')\n",
    "        else:\n",
    "            print('no')\n",
    "else:\n",
    "    print('no')"
   ]
  },
  {
   "cell_type": "code",
   "execution_count": 21,
   "id": "3daac03c-7148-4fdc-9fc4-9601f77259e7",
   "metadata": {},
   "outputs": [
    {
     "name": "stdout",
     "output_type": "stream",
     "text": [
      "yes\n"
     ]
    }
   ],
   "source": [
    "x='markapuram'\n",
    "if x[0]=='e' or x[0]=='m':\n",
    "    print('yes')\n",
    "else:\n",
    "    print('no')"
   ]
  },
  {
   "cell_type": "code",
   "execution_count": 23,
   "id": "641bafd1-e5c0-4407-805c-6cd69d6569d3",
   "metadata": {},
   "outputs": [
    {
     "name": "stdout",
     "output_type": "stream",
     "text": [
      "yes\n"
     ]
    }
   ],
   "source": [
    "x='horse'\n",
    "if x[0].lower() in ('r','h','t'):\n",
    "    print('yes')\n",
    "else:\n",
    "    print('no')\n"
   ]
  },
  {
   "cell_type": "code",
   "execution_count": 25,
   "id": "98585a32-cf9a-481a-96b1-b9737d612de8",
   "metadata": {},
   "outputs": [
    {
     "name": "stdout",
     "output_type": "stream",
     "text": [
      "yes\n"
     ]
    }
   ],
   "source": [
    "if x[0].lower() in ('f','h','r'):\n",
    "    print('yes')\n",
    "else:\n",
    "    print('no')"
   ]
  },
  {
   "cell_type": "code",
   "execution_count": null,
   "id": "a3b7b928-f92f-43e4-aecb-9f53524597a6",
   "metadata": {},
   "outputs": [],
   "source": []
  }
 ],
 "metadata": {
  "kernelspec": {
   "display_name": "Python [conda env:base] *",
   "language": "python",
   "name": "conda-base-py"
  },
  "language_info": {
   "codemirror_mode": {
    "name": "ipython",
    "version": 3
   },
   "file_extension": ".py",
   "mimetype": "text/x-python",
   "name": "python",
   "nbconvert_exporter": "python",
   "pygments_lexer": "ipython3",
   "version": "3.12.7"
  }
 },
 "nbformat": 4,
 "nbformat_minor": 5
}
