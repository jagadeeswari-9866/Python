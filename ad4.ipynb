{
 "cells": [
  {
   "cell_type": "code",
   "execution_count": null,
   "id": "1688d28b-6438-4479-b1bc-3d5da6356560",
   "metadata": {},
   "outputs": [],
   "source": [
    "#function\n",
    "there are two types of function.they are built-in function and user defined function."
   ]
  },
  {
   "cell_type": "code",
   "execution_count": null,
   "id": "a0930be9-cd7a-4add-8cde-995daf4ee8f7",
   "metadata": {},
   "outputs": [],
   "source": [
    "def function(parameter):\n",
    "    block of code\n",
    "    return output"
   ]
  },
  {
   "cell_type": "code",
   "execution_count": 3,
   "id": "e0d48a18-e484-4f50-bfe3-6af4a504d0b3",
   "metadata": {},
   "outputs": [
    {
     "data": {
      "text/plain": [
       "78.5"
      ]
     },
     "execution_count": 3,
     "metadata": {},
     "output_type": "execute_result"
    }
   ],
   "source": [
    "def calArea(r):\n",
    "    a=3.14*r*r\n",
    "    return a\n",
    "calArea(5)"
   ]
  },
  {
   "cell_type": "code",
   "execution_count": 5,
   "id": "b1c28d84-f43e-41a2-86ca-7c046dc39d7b",
   "metadata": {},
   "outputs": [
    {
     "data": {
      "text/plain": [
       "9498.500000000002"
      ]
     },
     "execution_count": 5,
     "metadata": {},
     "output_type": "execute_result"
    }
   ],
   "source": [
    "r=calArea(r=55)\n",
    "r"
   ]
  },
  {
   "cell_type": "code",
   "execution_count": 7,
   "id": "ea8acc40-7f76-4be2-9181-4b29f6b35c5a",
   "metadata": {},
   "outputs": [
    {
     "data": {
      "text/plain": [
       "float"
      ]
     },
     "execution_count": 7,
     "metadata": {},
     "output_type": "execute_result"
    }
   ],
   "source": [
    "type(r)"
   ]
  },
  {
   "cell_type": "code",
   "execution_count": 9,
   "id": "9a93a62e-ea24-4093-8916-100c4e5c385a",
   "metadata": {},
   "outputs": [
    {
     "data": {
      "text/plain": [
       "25"
      ]
     },
     "execution_count": 9,
     "metadata": {},
     "output_type": "execute_result"
    }
   ],
   "source": [
    "def calSquare(r):\n",
    "    e=r*r\n",
    "    return e\n",
    "calSquare(5)"
   ]
  },
  {
   "cell_type": "code",
   "execution_count": 11,
   "id": "7ea18372-59ff-437e-869c-97a38b545962",
   "metadata": {},
   "outputs": [
    {
     "data": {
      "text/plain": [
       "10"
      ]
     },
     "execution_count": 11,
     "metadata": {},
     "output_type": "execute_result"
    }
   ],
   "source": [
    "def sumAdd(a, b):\n",
    "    f=a + b\n",
    "    return f\n",
    "sumAdd(4, 6)"
   ]
  },
  {
   "cell_type": "code",
   "execution_count": 17,
   "id": "099c03a5-5daf-4250-85ec-84c319c98370",
   "metadata": {},
   "outputs": [],
   "source": [
    "def sumAdd(a,b):\n",
    "    o=a + b\n",
    "    print(o)"
   ]
  },
  {
   "cell_type": "code",
   "execution_count": 19,
   "id": "11f7eed4-3541-4e05-b0a7-222e96bf9b45",
   "metadata": {},
   "outputs": [
    {
     "name": "stdout",
     "output_type": "stream",
     "text": [
      "8\n"
     ]
    }
   ],
   "source": [
    "sumAdd(3,5)"
   ]
  },
  {
   "cell_type": "code",
   "execution_count": 21,
   "id": "8d7854e1-594f-4d95-bdcc-747c9f250a28",
   "metadata": {},
   "outputs": [
    {
     "name": "stdout",
     "output_type": "stream",
     "text": [
      "7\n"
     ]
    }
   ],
   "source": [
    "w=sumAdd(4,3)\n",
    "w\n"
   ]
  },
  {
   "cell_type": "code",
   "execution_count": 23,
   "id": "d17288e5-24e6-469b-bce1-a8da484ed687",
   "metadata": {},
   "outputs": [
    {
     "data": {
      "text/plain": [
       "NoneType"
      ]
     },
     "execution_count": 23,
     "metadata": {},
     "output_type": "execute_result"
    }
   ],
   "source": [
    "type(w)"
   ]
  },
  {
   "cell_type": "code",
   "execution_count": 25,
   "id": "dd07ab0b-8007-4fcc-92ef-42228cf3fb0a",
   "metadata": {},
   "outputs": [
    {
     "data": {
      "text/plain": [
       "12"
      ]
     },
     "execution_count": 25,
     "metadata": {},
     "output_type": "execute_result"
    }
   ],
   "source": [
    "def aor(l,b):\n",
    "    a=l*b\n",
    "    return a\n",
    "aor(4,3)"
   ]
  },
  {
   "cell_type": "code",
   "execution_count": 27,
   "id": "f35d354d-5cde-40a1-9f01-a1afd56b9d63",
   "metadata": {},
   "outputs": [
    {
     "data": {
      "text/plain": [
       "12"
      ]
     },
     "execution_count": 27,
     "metadata": {},
     "output_type": "execute_result"
    }
   ],
   "source": [
    "aor(4,3)"
   ]
  },
  {
   "cell_type": "code",
   "execution_count": 29,
   "id": "78e6c99d-f525-4816-a8aa-5daafa79546d",
   "metadata": {},
   "outputs": [
    {
     "data": {
      "text/plain": [
       "14"
      ]
     },
     "execution_count": 29,
     "metadata": {},
     "output_type": "execute_result"
    }
   ],
   "source": [
    "aor(l=7,b=2)"
   ]
  },
  {
   "cell_type": "code",
   "execution_count": 31,
   "id": "5cff83cf-d14d-4848-914d-0738e9cd80e4",
   "metadata": {},
   "outputs": [
    {
     "data": {
      "text/plain": [
       "(50.24, 30)"
      ]
     },
     "execution_count": 31,
     "metadata": {},
     "output_type": "execute_result"
    }
   ],
   "source": [
    "def area(r,l,b):\n",
    "    circle=3.14*r*r\n",
    "    rectangle=l*b\n",
    "    return circle,rectangle\n",
    "area(4,5,6)"
   ]
  },
  {
   "cell_type": "code",
   "execution_count": 33,
   "id": "be6b8ed7-0ffd-4626-90ac-fef7bf203822",
   "metadata": {},
   "outputs": [
    {
     "data": {
      "text/plain": [
       "'markapuram 533216 andhrapradesh'"
      ]
     },
     "execution_count": 33,
     "metadata": {},
     "output_type": "execute_result"
    }
   ],
   "source": [
    "\n",
    "t='markapuram 533216 andhrapradesh'\n",
    "t"
   ]
  },
  {
   "cell_type": "code",
   "execution_count": 35,
   "id": "3ca9aefc-2c78-4a72-bf2f-64c848e72f64",
   "metadata": {},
   "outputs": [
    {
     "data": {
      "text/plain": [
       "6"
      ]
     },
     "execution_count": 35,
     "metadata": {},
     "output_type": "execute_result"
    }
   ],
   "source": [
    "\n",
    "def countA(x):\n",
    "    a=x.lower()\n",
    "    return a.count('a')\n",
    "countA(t)"
   ]
  },
  {
   "cell_type": "code",
   "execution_count": 37,
   "id": "6a2870d1-a8eb-45d1-bc14-e41ed2a2511c",
   "metadata": {},
   "outputs": [],
   "source": [
    "def count_num_alpha(x):\n",
    "    c=0\n",
    "    d=0\n",
    "    for i in x:\n",
    "        if i.isalpha():\n",
    "            c+=1\n",
    "        elif i.isnumeric():\n",
    "            d+=1\n",
    "    return{'number of aphabets':c,'number of digits':d}"
   ]
  },
  {
   "cell_type": "code",
   "execution_count": 39,
   "id": "0a588563-01a8-4ab7-90f8-624b20473f9c",
   "metadata": {},
   "outputs": [
    {
     "data": {
      "text/plain": [
       "{'number of aphabets': 23, 'number of digits': 6}"
      ]
     },
     "execution_count": 39,
     "metadata": {},
     "output_type": "execute_result"
    }
   ],
   "source": [
    "\n",
    "count_num_alpha(t)"
   ]
  },
  {
   "cell_type": "code",
   "execution_count": null,
   "id": "8354f11c-5216-4260-b8b1-a3f2273268e3",
   "metadata": {},
   "outputs": [],
   "source": []
  }
 ],
 "metadata": {
  "kernelspec": {
   "display_name": "Python [conda env:base] *",
   "language": "python",
   "name": "conda-base-py"
  },
  "language_info": {
   "codemirror_mode": {
    "name": "ipython",
    "version": 3
   },
   "file_extension": ".py",
   "mimetype": "text/x-python",
   "name": "python",
   "nbconvert_exporter": "python",
   "pygments_lexer": "ipython3",
   "version": "3.12.7"
  }
 },
 "nbformat": 4,
 "nbformat_minor": 5
}
